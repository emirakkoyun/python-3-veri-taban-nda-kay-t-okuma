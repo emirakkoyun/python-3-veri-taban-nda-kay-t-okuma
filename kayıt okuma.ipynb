{
 "cells": [
  {
   "cell_type": "code",
   "execution_count": null,
   "id": "c29d0f93",
   "metadata": {},
   "outputs": [],
   "source": [
    "import pymysql.cursors\n",
    " \n",
    "# Veritabanı bağlantı cümlesi\n",
    "connection = pymysql.connect(host='localhost',\n",
    "                             user='root',\n",
    "                             password='',\n",
    "                             db='ogrenciler',\n",
    "                             charset='utf8mb4',\n",
    "                             cursorclass=pymysql.cursors.DictCursor)\n",
    "try:\n",
    "    with connection.cursor() as cursor:\n",
    "        # tek satır okuma\n",
    "        sql = \"SELECT `id`, `firstname`,`lastname` FROM `users`\"\n",
    "        cursor.execute(sql)\n",
    "        \n",
    "        for row in cursor.fetchall():\n",
    "            #tüm satırları okuma\n",
    "            firstname = str(row[\"firstname\"])\n",
    "            lastname = str(row[\"lastname\"])\n",
    " \n",
    "            #ekrana yazdırma\n",
    "            print(\"İsim : \" + firstname)\n",
    "            print(\"Soyisim  : \" + lastname)\n",
    " \n",
    "finally:\n",
    "    connection.close()"
   ]
  }
 ],
 "metadata": {
  "kernelspec": {
   "display_name": "Python 3 (ipykernel)",
   "language": "python",
   "name": "python3"
  },
  "language_info": {
   "codemirror_mode": {
    "name": "ipython",
    "version": 3
   },
   "file_extension": ".py",
   "mimetype": "text/x-python",
   "name": "python",
   "nbconvert_exporter": "python",
   "pygments_lexer": "ipython3",
   "version": "3.9.12"
  }
 },
 "nbformat": 4,
 "nbformat_minor": 5
}
